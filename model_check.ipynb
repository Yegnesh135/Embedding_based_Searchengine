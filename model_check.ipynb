{
 "cells": [
  {
   "cell_type": "code",
   "execution_count": 2,
   "id": "9aa6eda1",
   "metadata": {},
   "outputs": [],
   "source": [
    "import gensim\n",
    "from gensim.models import Word2Vec"
   ]
  },
  {
   "cell_type": "code",
   "execution_count": 3,
   "id": "bab5599d",
   "metadata": {},
   "outputs": [],
   "source": [
    "from gensim.models import FastText\n",
    "from sklearn.decomposition import PCA\n",
    "from matplotlib import pyplot as plt\n",
    "%matplotlib inline\n",
    "from IPython.core.interactiveshell import InteractiveShell\n",
    "InteractiveShell.ast_node_interactivity='all'"
   ]
  },
  {
   "cell_type": "code",
   "execution_count": 4,
   "id": "5a0b75e6",
   "metadata": {},
   "outputs": [],
   "source": [
    "skipgram_50 = Word2Vec.load(\"skipgram_50.bin\")"
   ]
  },
  {
   "cell_type": "code",
   "execution_count": 5,
   "id": "bf2555d8",
   "metadata": {},
   "outputs": [],
   "source": [
    "fast_n_100 = Word2Vec.load(\"fast_n_100.bin\")"
   ]
  },
  {
   "cell_type": "code",
   "execution_count": 6,
   "id": "dc308ce5",
   "metadata": {},
   "outputs": [],
   "source": [
    "X = skipgram_50.wv[skipgram_50.wv.index_to_key] #This command aims at bringing word embeddings of all the words in the vocab\n",
    "pca = PCA(n_components=2)\n",
    "result = pca.fit_transform(X)"
   ]
  },
  {
   "cell_type": "code",
   "execution_count": 7,
   "id": "f82c19c1",
   "metadata": {},
   "outputs": [
    {
     "data": {
      "text/plain": [
       "<matplotlib.collections.PathCollection at 0x20486175a80>"
      ]
     },
     "execution_count": 7,
     "metadata": {},
     "output_type": "execute_result"
    },
    {
     "data": {
      "text/plain": [
       "Text(1.187646, 0.29948193, 'patient')"
      ]
     },
     "execution_count": 7,
     "metadata": {},
     "output_type": "execute_result"
    },
    {
     "data": {
      "text/plain": [
       "Text(1.2839911, 0.46495706, 'covid')"
      ]
     },
     "execution_count": 7,
     "metadata": {},
     "output_type": "execute_result"
    },
    {
     "data": {
      "text/plain": [
       "Text(1.1471579, -0.16208114, 'study')"
      ]
     },
     "execution_count": 7,
     "metadata": {},
     "output_type": "execute_result"
    },
    {
     "data": {
      "text/plain": [
       "Text(1.0922586, 0.103210546, 'group')"
      ]
     },
     "execution_count": 7,
     "metadata": {},
     "output_type": "execute_result"
    },
    {
     "data": {
      "text/plain": [
       "Text(1.1417469, 0.45259133, 'day')"
      ]
     },
     "execution_count": 7,
     "metadata": {},
     "output_type": "execute_result"
    },
    {
     "data": {
      "text/plain": [
       "Text(1.0697837, 0.5495031, 'treatment')"
      ]
     },
     "execution_count": 7,
     "metadata": {},
     "output_type": "execute_result"
    },
    {
     "data": {
      "text/plain": [
       "Text(1.2107446, 0.9603173, 'sars')"
      ]
     },
     "execution_count": 7,
     "metadata": {},
     "output_type": "execute_result"
    },
    {
     "data": {
      "text/plain": [
       "Text(1.2074193, 0.8365731, 'disease')"
      ]
     },
     "execution_count": 7,
     "metadata": {},
     "output_type": "execute_result"
    },
    {
     "data": {
      "text/plain": [
       "Text(1.309038, 0.21034476, 'clinical')"
      ]
     },
     "execution_count": 7,
     "metadata": {},
     "output_type": "execute_result"
    },
    {
     "data": {
      "text/plain": [
       "Text(1.2579232, 0.53273064, 'br')"
      ]
     },
     "execution_count": 7,
     "metadata": {},
     "output_type": "execute_result"
    },
    {
     "data": {
      "text/plain": [
       "<function matplotlib.pyplot.show(close=None, block=None)>"
      ]
     },
     "execution_count": 7,
     "metadata": {},
     "output_type": "execute_result"
    },
    {
     "data": {
      "image/png": "[encoded data removed]",
      "text/plain": [
       "<Figure size 640x480 with 1 Axes>"
      ]
     },
     "metadata": {},
     "output_type": "display_data"
    }
   ],
   "source": [
    "# plot the pca of skipgram_50\n",
    "plt.scatter(result[:10,0],result[:10,1])\n",
    "words=list(skipgram_50.wv.index_to_key)\n",
    "for i,word in enumerate(words[:10]):\n",
    "    plt.annotate(word, xy=(result[i,0],result[i,1]))\n",
    "\n",
    "plt.show"
   ]
  },
  {
   "cell_type": "code",
   "execution_count": 8,
   "id": "5d53de8f",
   "metadata": {},
   "outputs": [],
   "source": [
    "# pca plot for fasttext\n",
    "X_fast = fast_n_100.wv[fast_n_100.wv.index_to_key]\n",
    "pca_fast = PCA(n_components=2)\n",
    "fast_result = pca_fast.fit_transform(X_fast)"
   ]
  },
  {
   "cell_type": "code",
   "execution_count": 9,
   "id": "0309769f",
   "metadata": {},
   "outputs": [
    {
     "data": {
      "text/plain": [
       "<matplotlib.collections.PathCollection at 0x204880c72e0>"
      ]
     },
     "execution_count": 9,
     "metadata": {},
     "output_type": "execute_result"
    },
    {
     "data": {
      "text/plain": [
       "Text(-0.77273023, 0.036083095, 'patient')"
      ]
     },
     "execution_count": 9,
     "metadata": {},
     "output_type": "execute_result"
    },
    {
     "data": {
      "text/plain": [
       "Text(-0.2160192, -0.058480468, 'covid')"
      ]
     },
     "execution_count": 9,
     "metadata": {},
     "output_type": "execute_result"
    },
    {
     "data": {
      "text/plain": [
       "Text(-0.17410101, 0.033827256, 'study')"
      ]
     },
     "execution_count": 9,
     "metadata": {},
     "output_type": "execute_result"
    },
    {
     "data": {
      "text/plain": [
       "Text(0.028095076, -0.14419036, 'group')"
      ]
     },
     "execution_count": 9,
     "metadata": {},
     "output_type": "execute_result"
    },
    {
     "data": {
      "text/plain": [
       "Text(0.06786464, 0.01070722, 'day')"
      ]
     },
     "execution_count": 9,
     "metadata": {},
     "output_type": "execute_result"
    },
    {
     "data": {
      "text/plain": [
       "Text(-0.8636472, -0.4794613, 'treatment')"
      ]
     },
     "execution_count": 9,
     "metadata": {},
     "output_type": "execute_result"
    },
    {
     "data": {
      "text/plain": [
       "Text(0.2445114, -0.16383569, 'sars')"
      ]
     },
     "execution_count": 9,
     "metadata": {},
     "output_type": "execute_result"
    },
    {
     "data": {
      "text/plain": [
       "Text(-0.7511229, -0.32442415, 'disease')"
      ]
     },
     "execution_count": 9,
     "metadata": {},
     "output_type": "execute_result"
    },
    {
     "data": {
      "text/plain": [
       "Text(-0.719958, -0.26904348, 'clinical')"
      ]
     },
     "execution_count": 9,
     "metadata": {},
     "output_type": "execute_result"
    },
    {
     "data": {
      "text/plain": [
       "Text(0.64762396, -0.26014683, 'br')"
      ]
     },
     "execution_count": 9,
     "metadata": {},
     "output_type": "execute_result"
    },
    {
     "data": {
      "text/plain": [
       "<function matplotlib.pyplot.show(close=None, block=None)>"
      ]
     },
     "execution_count": 9,
     "metadata": {},
     "output_type": "execute_result"
    },
    {
     "data": {
      "image/png": "[encoded data removed]",
      "text/plain": [
       "<Figure size 640x480 with 1 Axes>"
      ]
     },
     "metadata": {},
     "output_type": "display_data"
    }
   ],
   "source": [
    "plt.scatter(fast_result[:10,0],fast_result[:10,1])\n",
    "words_fast = list(fast_n_100.wv.index_to_key)\n",
    "for i,words_fast in enumerate(words_fast[:10]):\n",
    "    plt.annotate(words_fast,xy=(fast_result[i,0],fast_result[i,1]))\n",
    "plt.show"
   ]
  },
  {
   "cell_type": "code",
   "execution_count": 10,
   "id": "589701b5",
   "metadata": {},
   "outputs": [],
   "source": [
    "import pandas as pd\n",
    "import numpy as np\n",
    "import nltk\n",
    "from nltk.tokenize import word_tokenize"
   ]
  },
  {
   "cell_type": "code",
   "execution_count": 11,
   "id": "69bd119d",
   "metadata": {},
   "outputs": [
    {
     "name": "stderr",
     "output_type": "stream",
     "text": [
      "C:\\Users\\Gyegn\\AppData\\Local\\Temp\\ipykernel_20508\\2584791412.py:1: DtypeWarning: Columns (22,23,24,25,26,27,28,29,30,31,32,33,34,35,36,37,38,39,40,41,42,43,44,45,46,47,48,49,50,51,52,53,54,55,56,57,58,59,60,61,62,63,64,65,66,67,68,69,70,71,72,73,74,75,76,77,78,79,80,81,82,83,84,85,86,87,88,89,90,91,92,93,94,95,96,97,98,99,100,101,102,103,104,105,106,107,108,109,110,111,112,113,114,115,116,117,118,119,120,121,122,123,124,125,126,127,128,129,130,131,132,134,135,136,137,138,139,140,141,144,145) have mixed types. Specify dtype option on import or set low_memory=False.\n",
      "  df = pd.read_csv('processed_text.csv')\n"
     ]
    }
   ],
   "source": [
    "df = pd.read_csv('processed_text.csv')"
   ]
  },
  {
   "cell_type": "code",
   "execution_count": 12,
   "id": "1bc9b962",
   "metadata": {},
   "outputs": [
    {
     "data": {
      "text/plain": [
       "12126"
      ]
     },
     "execution_count": 12,
     "metadata": {},
     "output_type": "execute_result"
    }
   ],
   "source": [
    "df['Abstract'].shape[0]"
   ]
  },
  {
   "cell_type": "code",
   "execution_count": 13,
   "id": "5edd9c49",
   "metadata": {},
   "outputs": [],
   "source": [
    "#let the vector size \n",
    "vector_size = 100"
   ]
  },
  {
   "cell_type": "code",
   "execution_count": 14,
   "id": "e2cb306e",
   "metadata": {},
   "outputs": [],
   "source": [
    "# function to take average of all fasttext vectors of each word in abstract\n",
    "\n",
    "k1 = [] #create a list to store vector representation of each abstract\n",
    "\n",
    "for i in range(df['Abstract'].shape[0]):\n",
    "    K = np.zeros([vector_size,1])\n",
    "\n",
    "    count = 0 # set the count of words from the abstract be zero\n",
    "    for word in word_tokenize(df['Abstract'][i]):\n",
    "        if word in fast_n_100.wv.index_to_key:\n",
    "            count+=1\n",
    "            K += fast_n_100.wv['word'].reshape(vector_size,1)\n",
    "    K = K/count\n",
    "    k1.append(list(K))\n",
    "\n",
    "k1_array = np.array(k1)\n",
    "k1 = k1_array.reshape(df.shape[0],vector_size)\n"
   ]
  },
  {
   "cell_type": "code",
   "execution_count": 15,
   "id": "5f99db18",
   "metadata": {},
   "outputs": [
    {
     "data": {
      "text/plain": [
       "(12126, 100)"
      ]
     },
     "execution_count": 15,
     "metadata": {},
     "output_type": "execute_result"
    }
   ],
   "source": [
    "k1.shape"
   ]
  },
  {
   "cell_type": "code",
   "execution_count": 32,
   "id": "60bef5bb",
   "metadata": {},
   "outputs": [],
   "source": [
    "np.savetxt(\"model1_fast_n_100.csv\", k1, delimiter=\",\")"
   ]
  },
  {
   "cell_type": "code",
   "execution_count": 16,
   "id": "f572a3a0",
   "metadata": {},
   "outputs": [],
   "source": [
    "# Another way of finding the average\n",
    "def get_mean_vector(model,words):\n",
    "    words = [word for word in word_tokenize(words) if word in list(model.wv.index_to_key)] #Add the word to list of words if found in vocab\n",
    "    if len(words)>1:\n",
    "        return np.mean(model.wv[words], axis=0)\n",
    "    else:\n",
    "        return np.zeros([vector_size])"
   ]
  },
  {
   "cell_type": "code",
   "execution_count": 18,
   "id": "042d37f0",
   "metadata": {},
   "outputs": [],
   "source": [
    "k2 = []\n",
    "for i in df.Abstract:\n",
    "    k2.append(list(get_mean_vector(skipgram_50,i)))\n",
    "\n",
    "k2 = pd.DataFrame(k2)\n"
   ]
  },
  {
   "cell_type": "code",
   "execution_count": 19,
   "id": "74762420",
   "metadata": {},
   "outputs": [
    {
     "data": {
      "text/plain": [
       "(12126, 100)"
      ]
     },
     "execution_count": 19,
     "metadata": {},
     "output_type": "execute_result"
    }
   ],
   "source": [
    "k2.shape"
   ]
  },
  {
   "cell_type": "code",
   "execution_count": 33,
   "id": "f194eb0c",
   "metadata": {},
   "outputs": [],
   "source": [
    "k2.to_csv(\"method2_skipgram_50.csv\")"
   ]
  },
  {
   "cell_type": "code",
   "execution_count": null,
   "id": "91a8bceb",
   "metadata": {},
   "outputs": [
    {
     "data": {
      "text/plain": [
       "100"
      ]
     },
     "execution_count": 23,
     "metadata": {},
     "output_type": "execute_result"
    }
   ],
   "source": [
    "k1.head"
   ]
  },
  {
   "cell_type": "code",
   "execution_count": 27,
   "id": "92d4ec84",
   "metadata": {},
   "outputs": [],
   "source": [
    "# Converting title also into vectors\n",
    "k_title=[]\n",
    "for i in df.Title:\n",
    "    k_title.append(list(get_mean_vector(skipgram_50,i)))\n",
    "\n",
    "k_title = pd.DataFrame(k_title)"
   ]
  },
  {
   "cell_type": "code",
   "execution_count": 28,
   "id": "b6e3fd45",
   "metadata": {},
   "outputs": [
    {
     "data": {
      "text/plain": [
       "(12126, 100)"
      ]
     },
     "execution_count": 28,
     "metadata": {},
     "output_type": "execute_result"
    }
   ],
   "source": [
    "k_title.shape"
   ]
  },
  {
   "cell_type": "code",
   "execution_count": 34,
   "id": "f4ab3b34",
   "metadata": {},
   "outputs": [],
   "source": [
    "k_title.to_csv(\"method2_skipgram_50_title.csv\")"
   ]
  },
  {
   "cell_type": "code",
   "execution_count": 29,
   "id": "9ae11d72",
   "metadata": {},
   "outputs": [],
   "source": [
    "# Lets try using fasttext model in the second approach just changing the model name in the get_mean_vector\n",
    "k_fasttext = []\n",
    "\n",
    "for i in df.Abstract:\n",
    "    k_fasttext.append(list(get_mean_vector(fast_n_100,i)))\n",
    "\n",
    "k_fasttext = pd.DataFrame(k_fasttext)"
   ]
  },
  {
   "cell_type": "code",
   "execution_count": 35,
   "id": "78eb3576",
   "metadata": {},
   "outputs": [],
   "source": [
    "k_fasttext.to_csv(\"k_fasttext_abstract.csv\")"
   ]
  },
  {
   "cell_type": "code",
   "execution_count": null,
   "id": "f1d37e5a",
   "metadata": {},
   "outputs": [],
   "source": []
  }
 ],
 "metadata": {
  "kernelspec": {
   "display_name": "Python 3",
   "language": "python",
   "name": "python3"
  },
  "language_info": {
   "codemirror_mode": {
    "name": "ipython",
    "version": 3
   },
   "file_extension": ".py",
   "mimetype": "text/x-python",
   "name": "python",
   "nbconvert_exporter": "python",
   "pygments_lexer": "ipython3",
   "version": "3.10.6"
  }
 },
 "nbformat": 4,
 "nbformat_minor": 5
}
